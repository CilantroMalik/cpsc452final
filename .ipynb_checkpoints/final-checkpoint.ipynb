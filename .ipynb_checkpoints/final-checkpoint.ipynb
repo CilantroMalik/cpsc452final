{
 "cells": [
  {
   "cell_type": "code",
   "execution_count": null,
   "id": "a14b620c-9456-41b4-9e88-f11d8090f35b",
   "metadata": {},
   "outputs": [],
   "source": [
    "!pip install torch-scatter\n",
    "!pip install torch-geometric\n",
    "!pip install plotnine\n"
   ]
  },
  {
   "cell_type": "code",
   "execution_count": 27,
   "id": "e57e8cfe-3031-4e8b-9f4a-0a8eac7ea6c6",
   "metadata": {},
   "outputs": [],
   "source": [
    "import random\n",
    "import torch\n",
    "import torch.nn.functional as F\n",
    "from torch_geometric.data import Data, InMemoryDataset, Dataset\n",
    "from torch_geometric.nn import GATConv, GATv2Conv, DMoNPooling\n",
    "from torch_geometric.utils import to_dense_adj, to_dense_batch\n",
    "from torch_geometric.loader import DataLoader\n",
    "import torch_geometric.transforms as T\n",
    "from tqdm import tqdm\n",
    "from sklearn.preprocessing import LabelEncoder\n",
    "\n",
    "import matplotlib.pyplot as plt\n",
    "import pandas as pd\n",
    "\n",
    "from plotnine import ggplot"
   ]
  },
  {
   "cell_type": "code",
   "execution_count": 8,
   "id": "308170d3-8192-4cd2-a7dc-16e32ff60105",
   "metadata": {},
   "outputs": [],
   "source": [
    "# load data\n",
    "metacells = pd.read_csv(\"./oligo-SCZ-metacellExpr.csv\", index_col=0)\n",
    "metadata = pd.read_csv(\"./oligo-SCZ-meta.csv\", index_col=0)\n",
    "tom = pd.read_csv(\"./oligo-SCZ-tom.csv\", index_col=0)"
   ]
  },
  {
   "cell_type": "code",
   "execution_count": 6,
   "id": "a3688d75-b0e4-4f0c-afc2-9c0976efa9e3",
   "metadata": {},
   "outputs": [
    {
     "data": {
      "text/plain": [
       "Oligo#CON1_2             Control\n",
       "Oligo#CON10_5            Control\n",
       "Oligo#CON10_55           Control\n",
       "Oligo#CON10_105          Control\n",
       "Oligo#CON11_41           Control\n",
       "                       ...      \n",
       "Oligo#SZ15_10      Schizophrenia\n",
       "Oligo#SZ16_47      Schizophrenia\n",
       "Oligo#SZ16_97      Schizophrenia\n",
       "Oligo#SZ16_147     Schizophrenia\n",
       "Oligo#SZ18_1       Schizophrenia\n",
       "Name: disorder, Length: 100, dtype: object"
      ]
     },
     "execution_count": 6,
     "metadata": {},
     "output_type": "execute_result"
    }
   ],
   "source": [
    "metadata.iloc[1:5000:50,:][\"disorder\"]"
   ]
  },
  {
   "cell_type": "code",
   "execution_count": 7,
   "id": "3fcf3c1a-3706-4ec2-bd91-c101d2f22c45",
   "metadata": {},
   "outputs": [
    {
     "data": {
      "text/plain": [
       "array([0.        , 0.        , 1.28492008, ..., 3.60950374, 1.82917698,\n",
       "       0.83603014])"
      ]
     },
     "execution_count": 7,
     "metadata": {},
     "output_type": "execute_result"
    }
   ],
   "source": [
    "metacells.iloc[:,0].values"
   ]
  },
  {
   "cell_type": "code",
   "execution_count": 9,
   "id": "80ce2079-8a74-4111-a1c1-052721ff72cf",
   "metadata": {},
   "outputs": [],
   "source": [
    "# hyperparameters\n",
    "TOM_THRESHOLD = 0.025  # value below which we zero out the similarity that will be used as attention priors"
   ]
  },
  {
   "cell_type": "code",
   "execution_count": 10,
   "id": "8734aa97-8f22-470f-82d9-b36b4a8dc813",
   "metadata": {},
   "outputs": [
    {
     "name": "stderr",
     "output_type": "stream",
     "text": [
      "100%|██████████| 6679/6679 [04:53<00:00, 22.75it/s] \n"
     ]
    }
   ],
   "source": [
    "# create graph dataset\n",
    "edges = []\n",
    "for i in tqdm(range(len(tom.columns))):\n",
    "    for j in range(i):\n",
    "        if tom.iloc[i,j] > TOM_THRESHOLD:\n",
    "            edges.extend([[i,j],[j,i]])\n",
    "edges = torch.tensor(edges)"
   ]
  },
  {
   "cell_type": "code",
   "execution_count": 11,
   "id": "42d0beec-7d02-4117-96bd-57e339a06a0e",
   "metadata": {},
   "outputs": [],
   "source": [
    "metacellsReduced = metacells.iloc[:,0:5000:50]\n",
    "metadataReduced = metadata.iloc[0:5000:50,:]"
   ]
  },
  {
   "cell_type": "code",
   "execution_count": 11,
   "id": "3df5d3d7-e95b-4f52-b72d-8a094c40193d",
   "metadata": {},
   "outputs": [],
   "source": [
    "# # NOT USING CURRENTLY\n",
    "\n",
    "# class GeneGraphDataset(InMemoryDataset):\n",
    "#     def __init__(self, root, edge_index, expr_mat, meta, transform=None, pre_transform=None):\n",
    "#         self.edge_index = edge_index\n",
    "#         self.num_graphs = expr_mat.shape[1]\n",
    "#         self.expr_mat = expr_mat\n",
    "#         self.num_classes = 2\n",
    "#         self.y = meta[\"disorder\"]\n",
    "#         super().__init__(root, transform, pre_transform)\n",
    "#         self.load(\"./graphData/processed/combined.pt\")\n",
    "\n",
    "#     @property\n",
    "#     def raw_file_names(self):\n",
    "#         pass\n",
    "\n",
    "#     @property\n",
    "#     def processed_file_names(self):\n",
    "#         return [f\"./graphData/processed/{self.expr_mat.columns[i]}-graph.pt\" for i in range(self.num_graphs)]\n",
    "\n",
    "#     def process(self):\n",
    "#         data_list = []\n",
    "#         for i in tqdm(range(self.num_graphs)):\n",
    "#             node_features = torch.tensor(self.expr_mat.iloc[:,i].values)\n",
    "#             data = Data(x=node_features, edge_index=self.edge_index)\n",
    "#             data_list.append(data)\n",
    "#             torch.save(data, f\"./graphData/processed/{self.expr_mat.columns[i]}-graph.pt\")\n",
    "\n",
    "#         data, slices = self.collate(data_list)\n",
    "#         torch.save((data, slices), f\"./graphData/processed/combined.pt\")\n",
    "\n",
    "#     def get(self, idx=None, sample=None):\n",
    "#         if idx is None:\n",
    "#             data = torch.load(f\"./graphData/processed/{sample}-graph.pt\", weights_only=False)\n",
    "#         else:\n",
    "#             data = torch.load(f\"./graphData/processed/{self.expr_mat.columns[idx]}-graph.pt\", weights_only=False)\n",
    "#         return data\n",
    "\n",
    "\n",
    "# dataset = GeneGraphDataset(root='./graphData', edge_index=edges.t().contiguous(), expr_mat=metacellsReduced, meta=metadataReduced)"
   ]
  },
  {
   "cell_type": "code",
   "execution_count": 33,
   "id": "281c0507-60d4-4df5-9784-e9ff17702db4",
   "metadata": {},
   "outputs": [],
   "source": [
    "le = LabelEncoder()\n",
    "metadataReduced.loc[:,\"disorder_encoded\"] = le.fit_transform(metadataReduced[\"disorder\"])\n",
    "\n",
    "dataset = []\n",
    "nGenes = metacellsReduced.shape[0]\n",
    "edgesT = edges.t().contiguous()\n",
    "num_samples = min(100, metacellsReduced.shape[1], metadataReduced.shape[0])  # Ensure we don't exceed available data\n",
    "for i in range(num_samples):\n",
    "    dataset.append(\n",
    "    Data(\n",
    "        x=torch.tensor(metacellsReduced.iloc[:, i].values, dtype=torch.float32).reshape((nGenes, 1)),\n",
    "        edge_index=edgesT,\n",
    "        y=torch.tensor(metadataReduced[\"disorder_encoded\"].iloc[i], dtype=torch.long)\n",
    "    )\n",
    ")\n",
    "random.shuffle(dataset)\n",
    "loader = DataLoader(dataset, batch_size=4)"
   ]
  },
  {
   "cell_type": "code",
   "execution_count": 70,
   "id": "fa7c040f-dd62-4339-b578-da1036e0952c",
   "metadata": {},
   "outputs": [],
   "source": [
    "def train_test(metacells, metadata, edges, idx_train, idx_test, bs):\n",
    "    train = []\n",
    "    test = []\n",
    "    nGenes = metacells.shape[0]\n",
    "    edgesT = edges.t().contiguous()\n",
    "    for i in idx_train:\n",
    "        train.append(Data(\n",
    "            x=torch.tensor(metacells.iloc[:,i].values, dtype=torch.float32).reshape((nGenes,1)),\n",
    "            edge_index=edgesT,\n",
    "            y=torch.tensor(metadata[\"disorder_encoded\"].iloc[i], dtype=torch.long)\n",
    "        ))\n",
    "    for i in idx_test:\n",
    "        test.append(Data(\n",
    "            x=torch.tensor(metacells.iloc[:,i].values, dtype=torch.float32).reshape((nGenes,1)),\n",
    "            edge_index=edgesT,\n",
    "            y=torch.tensor(metadata[\"disorder_encoded\"].iloc[i], dtype=torch.long)\n",
    "        )) \n",
    "    random.shuffle(train)\n",
    "    random.shuffle(test)\n",
    "    return DataLoader(train, batch_size=bs), DataLoader(test, batch_size=bs)"
   ]
  },
  {
   "cell_type": "code",
   "execution_count": 62,
   "id": "087ba992-e904-4591-a877-6666d2c7482e",
   "metadata": {},
   "outputs": [],
   "source": [
    "metadata.loc[:,\"disorder_encoded\"] = le.fit_transform(metadata[\"disorder\"])"
   ]
  },
  {
   "cell_type": "code",
   "execution_count": 119,
   "id": "97e58a07-9578-4459-bfdf-7f66396e9808",
   "metadata": {},
   "outputs": [],
   "source": [
    "# define model\n",
    "class GAT(torch.nn.Module):\n",
    "    def __init__(self):\n",
    "        super(GAT, self).__init__()\n",
    "        self.num_features = 1\n",
    "        self.hidden_layers = 1\n",
    "        self.k = 512\n",
    "        self.in_heads = 8\n",
    "        self.mid_heads = 2\n",
    "        self.out_heads = 1\n",
    "\n",
    "        self.conv1 = GATv2Conv(self.num_features, self.hidden_layers, heads=self.in_heads, dropout=0.4)\n",
    "        self.bn1 = torch.nn.BatchNorm1d(self.hidden_layers * self.in_heads)\n",
    "        self.conv2 = GATv2Conv(self.hidden_layers*self.in_heads, self.hidden_layers, heads=self.mid_heads, dropout=0.4)\n",
    "        self.bn2 = torch.nn.BatchNorm1d(self.hidden_layers * self.mid_heads)\n",
    "        self.conv3 = GATv2Conv(self.hidden_layers*self.mid_heads, self.hidden_layers, heads=self.out_heads, dropout=0.4)\n",
    "        self.bn3 = torch.nn.BatchNorm1d(self.hidden_layers)\n",
    "\n",
    "        self.pool = DMoNPooling([self.hidden_layers, self.hidden_layers], k=self.k, dropout=0.4)\n",
    "\n",
    "        self.proj = torch.nn.Linear(self.hidden_layers, 1)\n",
    "\n",
    "        self.classifier = torch.nn.Linear(self.k, 2)\n",
    "\n",
    "    def _dense_adj(self, edge_index, alpha, batch):\n",
    "        # alpha = alpha.mean(dim=1)\n",
    "        # adj = to_dense_adj(edge_index, batch=batch, edge_attr=alpha)\n",
    "        # out = []\n",
    "        # for i in range(adj.size(0)):\n",
    "        #     A = adj[i]\n",
    "        #     deg_inv = A.sum(-1).clamp(min=1e-12).pow(-0.5)\n",
    "        #     norm_adj = deg_inv.unsqueeze(1) * A * deg_inv.unsqueeze(0)\n",
    "        #     out.append(norm_adj)\n",
    "        # return torch.stack(out)\n",
    "        alpha = alpha.mean(dim=1)\n",
    "        adj = to_dense_adj(edge_index, batch=batch, edge_attr=alpha)  # shape: [B, N, N]\n",
    "        deg = adj.sum(-1).clamp(min=1e-12)\n",
    "        deg_inv_sqrt = deg.pow(-0.5)\n",
    "        norm_adj = deg_inv_sqrt.unsqueeze(-1) * adj * deg_inv_sqrt.unsqueeze(-2)\n",
    "        return norm_adj\n",
    "\n",
    "\n",
    "    def forward(self, data):\n",
    "        x, ei, batch = data.x, data.edge_index, data.batch\n",
    "\n",
    "        x = F.elu(self.conv1(x, ei))\n",
    "        x = F.elu(self.conv2(x, ei))                      \n",
    "        x, (ei3, alpha3) = self.conv3(x, ei, return_attention_weights=True) \n",
    "        x = F.elu(self.bn3(x))\n",
    "\n",
    "        # convert to dense batch and corresponding mask\n",
    "        x_dense, mask = to_dense_batch(x, batch)\n",
    "\n",
    "        alpha = alpha3.mean(dim=1)\n",
    "        adj_dense = to_dense_adj(ei3, batch=batch, edge_attr=alpha)\n",
    "        deg = adj_dense.sum(-1).clamp(min=1e-12)\n",
    "        deg_inv_sqrt = deg.pow(-0.5)\n",
    "        adj_dense = deg_inv_sqrt.unsqueeze(-1) * adj_dense * deg_inv_sqrt.unsqueeze(-2)\n",
    "\n",
    "        # # build dense Laplacian surrogate from layer‑3 attention\n",
    "        # adj = self._dense_adj(ei3, alpha3, batch)\n",
    "        # mask = torch.ones(adj.size(0), adj.size(1), dtype=torch.bool, device=adj.device)\n",
    "\n",
    "        S, x, adj, mod, ort, clu = self.pool(x_dense, adj_dense, mask)\n",
    "\n",
    "        # read‑out\n",
    "        x = self.proj(x).squeeze(-1)\n",
    "        logits = self.classifier(x)\n",
    "\n",
    "        pool_reg = mod + clu + 0.1 * ort\n",
    "        return logits, pool_reg\n",
    "        "
   ]
  },
  {
   "cell_type": "code",
   "execution_count": 124,
   "id": "6bc6f624-5d77-4604-a8bd-9fe5bd19c6cf",
   "metadata": {},
   "outputs": [],
   "source": [
    "def train_epoch(loader, model, optimizer, device):\n",
    "    model.train()\n",
    "    total_loss = 0\n",
    "    iter_loss = []\n",
    "    train_iter = tqdm(loader)\n",
    "    correct_readouts = []\n",
    "    for data in train_iter:\n",
    "        data = data.to(device)\n",
    "        # data.y = data.y.long()\n",
    "        optimizer.zero_grad()\n",
    "        out, pool_reg = model(data)\n",
    "        loss = F.cross_entropy(out, data.y.squeeze()) + pool_reg.mean()\n",
    "\n",
    "        pred = out.argmax(dim=1)\n",
    "        \n",
    "        correct_readout = [\"SCZ\" if item == 1 else \"CON\" for item in data.y]\n",
    "        for i, item in enumerate(pred == data.y):\n",
    "            correct_readout[i] += \"(√)\" if item else \"(x)\"\n",
    "        correct_readouts.extend(correct_readout)\n",
    "        train_iter.set_description(f\"(loss {loss.item()}; {(pred == data.y).sum().item()}/{loader.batch_size} [{\" \".join(correct_readout)}])\")\n",
    "        \n",
    "        loss.backward()\n",
    "        optimizer.step()\n",
    "        #train_iter.set_description(f\"(loss {loss.item()})\")\n",
    "        iter_loss.append(loss.item())\n",
    "        total_loss += loss.item() * data.num_graphs\n",
    "    print(iter_loss)\n",
    "    return total_loss / len(loader.dataset)\n",
    "\n",
    "def test_epoch(loader, model, device):\n",
    "    model.eval()\n",
    "    total_loss = 0\n",
    "    correct = 0\n",
    "    correct_readouts = []\n",
    "    test_iter = tqdm(loader)\n",
    "    for data in test_iter:\n",
    "        data = data.to(device)\n",
    "        # data.y = data.y.long()\n",
    "        out, pool_reg = model(data)\n",
    "        loss = F.cross_entropy(out, data.y.squeeze()) + pool_reg.mean()\n",
    "        pred = out.argmax(dim=1)\n",
    "        correct += (pred == data.y).sum().item()\n",
    "        correct_readout = [\"SCZ\" if item == 1 else \"CON\" for item in data.y]\n",
    "        for i, item in enumerate(pred == data.y):\n",
    "            correct_readout[i] += \"(√)\" if item else \"(x)\"\n",
    "        correct_readouts.extend(correct_readout)\n",
    "        test_iter.set_description(f\"(loss {loss.item()}; {(pred == data.y).sum().item()}/{loader.batch_size} [{\" \".join(correct_readout)}])\")\n",
    "        total_loss += loss.item() * data.num_graphs\n",
    "    print(correct_readouts)\n",
    "    return total_loss / len(loader.dataset), correct / len(loader.dataset)"
   ]
  },
  {
   "cell_type": "code",
   "execution_count": null,
   "id": "e6e7847a-eec2-4cca-b58a-0c9a6cfd3412",
   "metadata": {},
   "outputs": [
    {
     "name": "stderr",
     "output_type": "stream",
     "text": [
      "(loss 1.2066829204559326; 4/8 [CON(√) SCZ(x) CON(√) SCZ(x) CON(√) SCZ(x) CON(√) SCZ(x)]):   0%|          | 0/25 [00:18<?, ?it/s]"
     ]
    },
    {
     "name": "stdout",
     "output_type": "stream",
     "text": [
      "torch.Size([8, 512, 1])\n",
      "torch.Size([8, 512])\n"
     ]
    },
    {
     "name": "stderr",
     "output_type": "stream",
     "text": [
      "(loss 1.2541576623916626; 6/8 [SCZ(√) CON(x) CON(x) SCZ(√) SCZ(√) SCZ(√) SCZ(√) SCZ(√)]):   4%|▍         | 1/25 [01:05<18:50, 47.09s/it]"
     ]
    },
    {
     "name": "stdout",
     "output_type": "stream",
     "text": [
      "torch.Size([8, 512, 1])\n",
      "torch.Size([8, 512])\n"
     ]
    },
    {
     "name": "stderr",
     "output_type": "stream",
     "text": [
      "(loss 1.4801230430603027; 5/8 [SCZ(√) CON(x) SCZ(√) CON(x) SCZ(√) SCZ(√) SCZ(√) CON(x)]):   8%|▊         | 2/25 [01:50<17:41, 46.14s/it]"
     ]
    },
    {
     "name": "stdout",
     "output_type": "stream",
     "text": [
      "torch.Size([8, 512, 1])\n",
      "torch.Size([8, 512])\n"
     ]
    },
    {
     "name": "stderr",
     "output_type": "stream",
     "text": [
      "(loss 1.4291549921035767; 4/8 [CON(√) SCZ(x) SCZ(√) CON(x) SCZ(x) SCZ(x) SCZ(√) SCZ(√)]):  12%|█▏        | 3/25 [02:31<16:00, 43.67s/it]"
     ]
    },
    {
     "name": "stdout",
     "output_type": "stream",
     "text": [
      "torch.Size([8, 512, 1])\n",
      "torch.Size([8, 512])\n"
     ]
    },
    {
     "name": "stderr",
     "output_type": "stream",
     "text": [
      "(loss 0.9442040324211121; 5/8 [CON(√) SCZ(√) CON(x) CON(√) SCZ(√) CON(x) SCZ(√) SCZ(x)]):  16%|█▌        | 4/25 [03:15<15:22, 43.95s/it]"
     ]
    },
    {
     "name": "stdout",
     "output_type": "stream",
     "text": [
      "torch.Size([8, 512, 1])\n",
      "torch.Size([8, 512])\n"
     ]
    },
    {
     "name": "stderr",
     "output_type": "stream",
     "text": [
      "(loss 1.1846413612365723; 3/8 [CON(x) SCZ(x) CON(√) SCZ(x) CON(x) SCZ(x) CON(√) SCZ(√)]):  20%|██        | 5/25 [03:57<14:23, 43.15s/it]"
     ]
    },
    {
     "name": "stdout",
     "output_type": "stream",
     "text": [
      "torch.Size([8, 512, 1])\n",
      "torch.Size([8, 512])\n"
     ]
    }
   ],
   "source": [
    "model = GAT()\n",
    "optimizer = torch.optim.Adam(model.parameters(), lr=0.005, weight_decay=0)\n",
    "device = 'cpu'\n",
    "\n",
    "#train_loader, test_loader = train_test(metacells, metadata, edges, list(range(0, 5000, 50)), list(range(25, 5025, 50)))\n",
    "#samples_use = random.sample(list(range(metacells.shape[1])), 300)\n",
    "con_samples = [metacells.columns.get_loc(c) for c in metadata[metadata[\"disorder_encoded\"] == 1].sample(n=150).index.values]\n",
    "scz_samples = [metacells.columns.get_loc(c) for c in metadata[metadata[\"disorder_encoded\"] == 0].sample(n=150).index.values]\n",
    "samples_train = con_samples[:100]\n",
    "samples_train.extend(scz_samples[:100])\n",
    "random.shuffle(samples_train)\n",
    "samples_test = con_samples[100:]\n",
    "samples_test.extend(scz_samples[100:])\n",
    "random.shuffle(samples_test)\n",
    "train_loader, test_loader = train_test(metacells, metadata, edges, samples_train, samples_test, 8)\n",
    "\n",
    "loss = train_epoch(train_loader, model, optimizer, device)\n",
    "print(loss)"
   ]
  },
  {
   "cell_type": "code",
   "execution_count": null,
   "id": "8624d042-6e1e-4eed-a271-89de5a5e6e1a",
   "metadata": {},
   "outputs": [],
   "source": [
    "total_loss, correct = test_epoch(test_loader, model, device)"
   ]
  },
  {
   "cell_type": "code",
   "execution_count": 93,
   "id": "5230f109-1891-4312-9ee9-93a1cfef9732",
   "metadata": {},
   "outputs": [
    {
     "name": "stdout",
     "output_type": "stream",
     "text": [
      "132\n"
     ]
    }
   ],
   "source": [
    "samples_use = random.sample(list(range(metacells.shape[1])), 300)\n",
    "print(metadata.iloc[samples_use,][\"disorder_encoded\"].sum())"
   ]
  },
  {
   "cell_type": "code",
   "execution_count": 104,
   "id": "29d0e921-d9f6-4093-81e8-1d16f0af629d",
   "metadata": {},
   "outputs": [
    {
     "data": {
      "text/plain": [
       "[4888,\n",
       " 7295,\n",
       " 5850,\n",
       " 4063,\n",
       " 6223,\n",
       " 5086,\n",
       " 4807,\n",
       " 5386,\n",
       " 4141,\n",
       " 4477,\n",
       " 4416,\n",
       " 4579,\n",
       " 4599,\n",
       " 5944,\n",
       " 5482,\n",
       " 6598,\n",
       " 5067,\n",
       " 4232,\n",
       " 6042,\n",
       " 6029,\n",
       " 6201,\n",
       " 5396,\n",
       " 5458,\n",
       " 5735,\n",
       " 6649,\n",
       " 6530,\n",
       " 5194,\n",
       " 7174,\n",
       " 5763,\n",
       " 6811,\n",
       " 6145,\n",
       " 7233,\n",
       " 6696,\n",
       " 4564,\n",
       " 6024,\n",
       " 5272,\n",
       " 4671,\n",
       " 6258,\n",
       " 5767,\n",
       " 4584,\n",
       " 6991,\n",
       " 4566,\n",
       " 5987,\n",
       " 5633,\n",
       " 7089,\n",
       " 5874,\n",
       " 4626,\n",
       " 5434,\n",
       " 5400,\n",
       " 4361,\n",
       " 5621,\n",
       " 3953,\n",
       " 4428,\n",
       " 4221,\n",
       " 5658,\n",
       " 7059,\n",
       " 4282,\n",
       " 4442,\n",
       " 6070,\n",
       " 6806,\n",
       " 6588,\n",
       " 5982,\n",
       " 6407,\n",
       " 6021,\n",
       " 5724,\n",
       " 4741,\n",
       " 5449,\n",
       " 7066,\n",
       " 5305,\n",
       " 6802,\n",
       " 4959,\n",
       " 5596,\n",
       " 5520,\n",
       " 6705,\n",
       " 6333,\n",
       " 4871,\n",
       " 3914,\n",
       " 4078,\n",
       " 7370,\n",
       " 5450,\n",
       " 4743,\n",
       " 6714,\n",
       " 4112,\n",
       " 6515,\n",
       " 5374,\n",
       " 3928,\n",
       " 5755,\n",
       " 5215,\n",
       " 4866,\n",
       " 6190,\n",
       " 5203,\n",
       " 4168,\n",
       " 6293,\n",
       " 6526,\n",
       " 7164,\n",
       " 4122,\n",
       " 5192,\n",
       " 5156,\n",
       " 4710,\n",
       " 5321,\n",
       " 6224,\n",
       " 4303,\n",
       " 5791,\n",
       " 5731,\n",
       " 6548,\n",
       " 6905,\n",
       " 5617,\n",
       " 5652,\n",
       " 4177,\n",
       " 6079,\n",
       " 4314,\n",
       " 3913,\n",
       " 6008,\n",
       " 6038,\n",
       " 5903,\n",
       " 6456,\n",
       " 4453,\n",
       " 6426,\n",
       " 5201,\n",
       " 5048,\n",
       " 4188,\n",
       " 5038,\n",
       " 4862,\n",
       " 7249,\n",
       " 4642,\n",
       " 4057,\n",
       " 5199,\n",
       " 6141,\n",
       " 4869,\n",
       " 4991,\n",
       " 5236,\n",
       " 6265,\n",
       " 5796,\n",
       " 6063,\n",
       " 4191,\n",
       " 6511,\n",
       " 6320,\n",
       " 6733,\n",
       " 6697,\n",
       " 5369,\n",
       " 4162,\n",
       " 5785,\n",
       " 4616,\n",
       " 6135,\n",
       " 5688,\n",
       " 4451,\n",
       " 5885,\n",
       " 4830,\n",
       " 7362,\n",
       " 6501]"
      ]
     },
     "execution_count": 104,
     "metadata": {},
     "output_type": "execute_result"
    }
   ],
   "source": [
    "[metacells.columns.get_loc(c) for c in metadata[metadata[\"disorder_encoded\"] == 1].sample(n=150).index.values]"
   ]
  },
  {
   "cell_type": "code",
   "execution_count": null,
   "id": "fa203185-2f3c-485e-80ed-f6fec3795d00",
   "metadata": {},
   "outputs": [],
   "source": []
  }
 ],
 "metadata": {
  "kernelspec": {
   "display_name": "Python 3 (ipykernel)",
   "language": "python",
   "name": "python3"
  },
  "language_info": {
   "codemirror_mode": {
    "name": "ipython",
    "version": 3
   },
   "file_extension": ".py",
   "mimetype": "text/x-python",
   "name": "python",
   "nbconvert_exporter": "python",
   "pygments_lexer": "ipython3",
   "version": "3.13.2"
  }
 },
 "nbformat": 4,
 "nbformat_minor": 5
}
